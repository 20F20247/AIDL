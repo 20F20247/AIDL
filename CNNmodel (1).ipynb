{
 "cells": [
  {
   "cell_type": "code",
   "execution_count": 1,
   "id": "b12925db",
   "metadata": {},
   "outputs": [],
   "source": [
    "train_dir = '/Users/Skmal/OneDrive/Documents/archive (7)/train'\n",
    "test_dir = '/Users/Skmal/OneDrive/Documents/archive (7)/test'"
   ]
  },
  {
   "cell_type": "code",
   "execution_count": 2,
   "id": "4af5f780",
   "metadata": {},
   "outputs": [
    {
     "name": "stdout",
     "output_type": "stream",
     "text": [
      "164\n",
      "130\n",
      "54\n",
      "43\n"
     ]
    }
   ],
   "source": [
    "import os\n",
    "print(len(os.listdir('/Users/Skmal/OneDrive/Documents/archive (7)/train/apples')))\n",
    "print(len(os.listdir('/Users/Skmal/OneDrive/Documents/archive (7)/train/tomatoes')))\n",
    "print(len(os.listdir('/Users/Skmal/OneDrive/Documents/archive (7)/test/apples')))\n",
    "print(len(os.listdir('/Users/Skmal/OneDrive/Documents/archive (7)/test/tomatoes')))"
   ]
  },
  {
   "cell_type": "code",
   "execution_count": 3,
   "id": "882e265e",
   "metadata": {},
   "outputs": [
    {
     "name": "stdout",
     "output_type": "stream",
     "text": [
      "WARNING:tensorflow:From C:\\Users\\Skmal\\anaconda3\\Lib\\site-packages\\keras\\src\\losses.py:2976: The name tf.losses.sparse_softmax_cross_entropy is deprecated. Please use tf.compat.v1.losses.sparse_softmax_cross_entropy instead.\n",
      "\n",
      "Found 236 images belonging to 2 classes.\n",
      "Found 58 images belonging to 2 classes.\n"
     ]
    }
   ],
   "source": [
    "import tensorflow as tf\n",
    "from tensorflow.keras.preprocessing.image import ImageDataGenerator\n",
    "\n",
    "# Create ImageDataGenerator for training set\n",
    "train_datagen = ImageDataGenerator(\n",
    "    rescale=1./255,\n",
    "    validation_split=0.2  # Split 20% of the images for validation\n",
    ")\n",
    "\n",
    "# Load and prepare training data\n",
    "train_data = train_datagen.flow_from_directory(\n",
    "    train_dir,\n",
    "    target_size=(256,256),\n",
    "    batch_size=32,\n",
    "    class_mode='binary',  # 'binary' for binary classification\n",
    "    subset='training'  # Specify 'training' for the training set\n",
    ")\n",
    "\n",
    "# Create ImageDataGenerator for validation set\n",
    "validation_datagen = ImageDataGenerator(\n",
    "    rescale=1./255,\n",
    "    validation_split=0.2  # Note: Using the same validation split as in the training set\n",
    ")\n",
    "\n",
    "# Load and prepare validation data\n",
    "validation_data = validation_datagen.flow_from_directory(\n",
    "    train_dir,\n",
    "    target_size=(256,256),\n",
    "    batch_size=32,\n",
    "    class_mode='binary',\n",
    "    subset='validation'  # Specify 'validation' for the validation set\n",
    ")"
   ]
  },
  {
   "cell_type": "code",
   "execution_count": 4,
   "id": "d0915cd2",
   "metadata": {},
   "outputs": [],
   "source": [
    "from tensorflow import keras\n",
    "from keras import Sequential\n",
    "from keras.layers import Dense,Conv2D,MaxPooling2D,Flatten,BatchNormalization,UpSampling2D, Dropout"
   ]
  },
  {
   "cell_type": "code",
   "execution_count": 5,
   "id": "699d768d",
   "metadata": {},
   "outputs": [
    {
     "name": "stdout",
     "output_type": "stream",
     "text": [
      "WARNING:tensorflow:From C:\\Users\\Skmal\\anaconda3\\Lib\\site-packages\\keras\\src\\backend.py:873: The name tf.get_default_graph is deprecated. Please use tf.compat.v1.get_default_graph instead.\n",
      "\n",
      "WARNING:tensorflow:From C:\\Users\\Skmal\\anaconda3\\Lib\\site-packages\\keras\\src\\layers\\pooling\\max_pooling2d.py:161: The name tf.nn.max_pool is deprecated. Please use tf.nn.max_pool2d instead.\n",
      "\n"
     ]
    }
   ],
   "source": [
    "# create CNN model\n",
    "\n",
    "model = Sequential()\n",
    "\n",
    "model.add(Conv2D(32,kernel_size=(3,3),padding='valid',activation='relu',input_shape=(256,256,3)))  # 32 filters\n",
    "#model.add(BatchNormalization())  # added to reduce overfitting\n",
    "model.add(MaxPooling2D(pool_size=(2,2),strides=2,padding='valid'))\n",
    "\n",
    "model.add(Conv2D(64,kernel_size=(3,3),padding='valid',activation='relu'))\n",
    "#model.add(BatchNormalization())  # added to reduce overfitting\n",
    "model.add(MaxPooling2D(pool_size=(2,2),strides=2,padding='valid'))\n",
    "\n",
    "model.add(Conv2D(128,kernel_size=(3,3),padding='valid',activation='relu'))\n",
    "#model.add(BatchNormalization())  # added to reduce overfitting\n",
    "model.add(MaxPooling2D(pool_size=(2,2),strides=2,padding='valid'))\n",
    "\n",
    "model.add(Flatten())\n",
    "\n",
    "model.add(Dense(128,activation='relu')) #feature reduction\n",
    "#model.add(Dropout(0.1))  # added to reduce overfitting\n",
    "model.add(Dense(64,activation='relu'))\n",
    "#model.add(Dropout(0.1))  # added to reduce overfitting\n",
    "model.add(Dense(1,activation='sigmoid'))  #output layer"
   ]
  },
  {
   "cell_type": "code",
   "execution_count": 6,
   "id": "bb1aef99",
   "metadata": {},
   "outputs": [],
   "source": [
    "from keras.optimizers import Adam\n",
    "model.compile(optimizer=Adam(learning_rate=0.001),loss='binary_crossentropy',metrics=['accuracy']) #binary_crossentropy - binary classification"
   ]
  },
  {
   "cell_type": "code",
   "execution_count": 7,
   "id": "d049a182",
   "metadata": {},
   "outputs": [
    {
     "name": "stdout",
     "output_type": "stream",
     "text": [
      "Epoch 1/22\n",
      "WARNING:tensorflow:From C:\\Users\\Skmal\\anaconda3\\Lib\\site-packages\\keras\\src\\utils\\tf_utils.py:492: The name tf.ragged.RaggedTensorValue is deprecated. Please use tf.compat.v1.ragged.RaggedTensorValue instead.\n",
      "\n",
      "WARNING:tensorflow:From C:\\Users\\Skmal\\anaconda3\\Lib\\site-packages\\keras\\src\\engine\\base_layer_utils.py:384: The name tf.executing_eagerly_outside_functions is deprecated. Please use tf.compat.v1.executing_eagerly_outside_functions instead.\n",
      "\n",
      "8/8 [==============================] - 17s 2s/step - loss: 0.7933 - accuracy: 0.5085 - val_loss: 0.6847 - val_accuracy: 0.5690\n",
      "Epoch 2/22\n",
      "8/8 [==============================] - 14s 2s/step - loss: 0.6371 - accuracy: 0.6271 - val_loss: 0.7606 - val_accuracy: 0.6034\n",
      "Epoch 3/22\n",
      "8/8 [==============================] - 14s 2s/step - loss: 0.6147 - accuracy: 0.6737 - val_loss: 0.6958 - val_accuracy: 0.5690\n",
      "Epoch 4/22\n",
      "8/8 [==============================] - 15s 2s/step - loss: 0.5574 - accuracy: 0.7288 - val_loss: 0.6943 - val_accuracy: 0.6034\n",
      "Epoch 5/22\n",
      "8/8 [==============================] - 14s 2s/step - loss: 0.5101 - accuracy: 0.7458 - val_loss: 0.8064 - val_accuracy: 0.6034\n",
      "Epoch 6/22\n",
      "8/8 [==============================] - 14s 2s/step - loss: 0.3997 - accuracy: 0.8432 - val_loss: 0.8179 - val_accuracy: 0.6552\n",
      "Epoch 7/22\n",
      "8/8 [==============================] - 14s 2s/step - loss: 0.2737 - accuracy: 0.8729 - val_loss: 1.1333 - val_accuracy: 0.6724\n",
      "Epoch 8/22\n",
      "8/8 [==============================] - 15s 2s/step - loss: 0.2487 - accuracy: 0.8814 - val_loss: 1.0215 - val_accuracy: 0.7069\n",
      "Epoch 9/22\n",
      "8/8 [==============================] - 14s 2s/step - loss: 0.2681 - accuracy: 0.8814 - val_loss: 1.1666 - val_accuracy: 0.6552\n",
      "Epoch 10/22\n",
      "8/8 [==============================] - 14s 2s/step - loss: 0.1521 - accuracy: 0.9534 - val_loss: 2.3656 - val_accuracy: 0.6552\n",
      "Epoch 11/22\n",
      "8/8 [==============================] - 14s 2s/step - loss: 0.0902 - accuracy: 0.9576 - val_loss: 1.5902 - val_accuracy: 0.7241\n",
      "Epoch 12/22\n",
      "8/8 [==============================] - 14s 2s/step - loss: 0.0477 - accuracy: 0.9831 - val_loss: 1.5083 - val_accuracy: 0.6897\n",
      "Epoch 13/22\n",
      "8/8 [==============================] - 14s 2s/step - loss: 0.0207 - accuracy: 1.0000 - val_loss: 2.2055 - val_accuracy: 0.6897\n",
      "Epoch 14/22\n",
      "8/8 [==============================] - 14s 2s/step - loss: 0.0107 - accuracy: 1.0000 - val_loss: 2.3462 - val_accuracy: 0.7069\n",
      "Epoch 15/22\n",
      "8/8 [==============================] - 14s 2s/step - loss: 0.0040 - accuracy: 1.0000 - val_loss: 2.3124 - val_accuracy: 0.7241\n",
      "Epoch 16/22\n",
      "8/8 [==============================] - 15s 2s/step - loss: 0.0033 - accuracy: 1.0000 - val_loss: 2.4059 - val_accuracy: 0.7241\n",
      "Epoch 17/22\n",
      "8/8 [==============================] - 15s 2s/step - loss: 0.0016 - accuracy: 1.0000 - val_loss: 2.4196 - val_accuracy: 0.7241\n",
      "Epoch 18/22\n",
      "8/8 [==============================] - 14s 2s/step - loss: 6.4125e-04 - accuracy: 1.0000 - val_loss: 2.4185 - val_accuracy: 0.7414\n",
      "Epoch 19/22\n",
      "8/8 [==============================] - 14s 2s/step - loss: 5.8357e-04 - accuracy: 1.0000 - val_loss: 2.4895 - val_accuracy: 0.7414\n",
      "Epoch 20/22\n",
      "8/8 [==============================] - 14s 2s/step - loss: 3.3802e-04 - accuracy: 1.0000 - val_loss: 2.6878 - val_accuracy: 0.7241\n",
      "Epoch 21/22\n",
      "8/8 [==============================] - 14s 2s/step - loss: 2.4993e-04 - accuracy: 1.0000 - val_loss: 2.7542 - val_accuracy: 0.7241\n",
      "Epoch 22/22\n",
      "8/8 [==============================] - 14s 2s/step - loss: 1.8546e-04 - accuracy: 1.0000 - val_loss: 2.7561 - val_accuracy: 0.7241\n"
     ]
    }
   ],
   "source": [
    "history = model.fit(train_data, epochs=22, validation_data=validation_data)"
   ]
  },
  {
   "cell_type": "code",
   "execution_count": 8,
   "id": "0950a149",
   "metadata": {},
   "outputs": [
    {
     "data": {
      "image/png": "[encoded data removed]",
      "text/plain": [
       "<Figure size 640x480 with 1 Axes>"
      ]
     },
     "metadata": {},
     "output_type": "display_data"
    }
   ],
   "source": [
    "import matplotlib.pyplot as plt\n",
    "\n",
    "plt.plot(history.history['accuracy'],color='red',label='train')\n",
    "plt.plot(history.history['val_accuracy'],color='blue',label='validation')\n",
    "plt.legend()\n",
    "plt.show()"
   ]
  },
  {
   "cell_type": "code",
   "execution_count": 9,
   "id": "085d860b",
   "metadata": {},
   "outputs": [
    {
     "data": {
      "image/png": "[encoded data removed]",
      "text/plain": [
       "<Figure size 640x480 with 1 Axes>"
      ]
     },
     "metadata": {},
     "output_type": "display_data"
    }
   ],
   "source": [
    "plt.plot(history.history['loss'],color='red',label='train')\n",
    "plt.plot(history.history['val_loss'],color='blue',label='validation')\n",
    "plt.legend()\n",
    "plt.show()"
   ]
  },
  {
   "cell_type": "code",
   "execution_count": 10,
   "id": "9b930372",
   "metadata": {},
   "outputs": [
    {
     "name": "stdout",
     "output_type": "stream",
     "text": [
      "Found 97 images belonging to 2 classes.\n"
     ]
    }
   ],
   "source": [
    "test_datagen = ImageDataGenerator(rescale=1./255)\n",
    "test_data = test_datagen.flow_from_directory(\n",
    "    test_dir,\n",
    "    target_size=(256,256),\n",
    "    batch_size=32,\n",
    "    class_mode='binary'\n",
    ")"
   ]
  },
  {
   "cell_type": "code",
   "execution_count": 11,
   "id": "1d6d4914",
   "metadata": {},
   "outputs": [
    {
     "name": "stdout",
     "output_type": "stream",
     "text": [
      "4/4 [==============================] - 2s 243ms/step\n",
      "[[1.64369941e-02]\n",
      " [9.99374151e-01]\n",
      " [5.94291836e-02]\n",
      " [4.49687789e-08]\n",
      " [1.00000000e+00]\n",
      " [9.96610701e-01]\n",
      " [1.45660073e-04]\n",
      " [5.72339036e-02]\n",
      " [5.17690069e-06]\n",
      " [9.88336524e-08]\n",
      " [1.44688413e-02]\n",
      " [1.00000000e+00]\n",
      " [4.12762483e-06]\n",
      " [9.99871314e-01]\n",
      " [4.20017600e-01]\n",
      " [9.82529582e-06]\n",
      " [9.97099280e-01]\n",
      " [1.36347619e-04]\n",
      " [1.15892664e-03]\n",
      " [2.48643209e-05]\n",
      " [5.95480874e-02]\n",
      " [1.00000000e+00]\n",
      " [5.32967213e-04]\n",
      " [4.39468911e-03]\n",
      " [8.95426273e-02]\n",
      " [1.00000000e+00]\n",
      " [9.99999702e-01]\n",
      " [2.85628028e-02]\n",
      " [1.48705635e-02]\n",
      " [9.82786715e-01]\n",
      " [1.00000000e+00]\n",
      " [9.74919740e-03]\n",
      " [4.11715984e-01]\n",
      " [1.39250874e-03]\n",
      " [9.99893725e-01]\n",
      " [7.27579118e-06]\n",
      " [6.65372331e-03]\n",
      " [9.99998331e-01]\n",
      " [6.02935195e-01]\n",
      " [2.87107348e-01]\n",
      " [1.00000000e+00]\n",
      " [1.00000000e+00]\n",
      " [3.22268683e-08]\n",
      " [9.99976099e-01]\n",
      " [9.55081403e-01]\n",
      " [9.99875128e-01]\n",
      " [1.51467175e-05]\n",
      " [3.68784470e-07]\n",
      " [9.19557571e-01]\n",
      " [6.12536724e-07]\n",
      " [1.00000000e+00]\n",
      " [3.78470315e-04]\n",
      " [1.00000000e+00]\n",
      " [9.96442556e-01]\n",
      " [2.05020844e-11]\n",
      " [9.99999940e-01]\n",
      " [9.99999583e-01]\n",
      " [2.17867018e-05]\n",
      " [3.74473359e-07]\n",
      " [8.60726286e-04]\n",
      " [4.17571533e-10]\n",
      " [5.79039450e-04]\n",
      " [9.04719830e-01]\n",
      " [1.70465097e-01]\n",
      " [8.73761237e-01]\n",
      " [9.99979675e-01]\n",
      " [9.99997914e-01]\n",
      " [1.04820958e-06]\n",
      " [9.98933256e-01]\n",
      " [9.98414993e-01]\n",
      " [1.00000000e+00]\n",
      " [9.62978083e-05]\n",
      " [1.00000000e+00]\n",
      " [2.97905244e-05]\n",
      " [2.49663281e-05]\n",
      " [9.99999523e-01]\n",
      " [1.00000000e+00]\n",
      " [8.94799471e-01]\n",
      " [5.65225251e-18]\n",
      " [9.99996841e-01]\n",
      " [9.99998927e-01]\n",
      " [1.02190142e-02]\n",
      " [1.00000000e+00]\n",
      " [9.99993980e-01]\n",
      " [1.12135986e-07]\n",
      " [2.32259789e-03]\n",
      " [9.99999583e-01]\n",
      " [1.00000000e+00]\n",
      " [2.67959642e-03]\n",
      " [9.99999881e-01]\n",
      " [9.99979436e-01]\n",
      " [2.40989117e-04]\n",
      " [4.00280811e-07]\n",
      " [3.58907982e-07]\n",
      " [1.00000000e+00]\n",
      " [1.77171969e-05]\n",
      " [1.15682036e-04]]\n"
     ]
    }
   ],
   "source": [
    "#predict the test data\n",
    "predictions = model.predict(test_data)\n",
    "print(predictions)"
   ]
  },
  {
   "cell_type": "code",
   "execution_count": 12,
   "id": "98d1f415",
   "metadata": {},
   "outputs": [
    {
     "data": {
      "text/plain": [
       "97"
      ]
     },
     "execution_count": 12,
     "metadata": {},
     "output_type": "execute_result"
    }
   ],
   "source": [
    "len(predictions)"
   ]
  },
  {
   "cell_type": "code",
   "execution_count": 13,
   "id": "ffceaf88",
   "metadata": {},
   "outputs": [
    {
     "name": "stdout",
     "output_type": "stream",
     "text": [
      "Confusion Matrix:\n",
      "[[31 23]\n",
      " [21 22]]\n",
      "Classification Report:\n",
      "              precision    recall  f1-score   support\n",
      "\n",
      "           0       0.60      0.57      0.58        54\n",
      "           1       0.49      0.51      0.50        43\n",
      "\n",
      "    accuracy                           0.55        97\n",
      "   macro avg       0.54      0.54      0.54        97\n",
      "weighted avg       0.55      0.55      0.55        97\n",
      "\n"
     ]
    }
   ],
   "source": [
    "from sklearn.metrics import confusion_matrix, classification_report\n",
    "\n",
    "# Assuming you have ground truth labels (true_labels) and predicted labels (predictions)\n",
    "true_labels = test_data.classes\n",
    "predicted_labels = (predictions > 0.5).astype(int)  # Adjust the threshold as needed\n",
    "\n",
    "# Calculate confusion matrix\n",
    "cm = confusion_matrix(true_labels, predicted_labels)\n",
    "\n",
    "# Print confusion matrix\n",
    "print(\"Confusion Matrix:\")\n",
    "print(cm)\n",
    "\n",
    "# Print classification report\n",
    "print(\"Classification Report:\")\n",
    "print(classification_report(true_labels, predicted_labels))"
   ]
  },
  {
   "cell_type": "code",
   "execution_count": null,
   "id": "a5d21ebe",
   "metadata": {},
   "outputs": [],
   "source": []
  },
  {
   "cell_type": "code",
   "execution_count": null,
   "id": "c4f31477",
   "metadata": {},
   "outputs": [],
   "source": []
  }
 ],
 "metadata": {
  "kernelspec": {
   "display_name": "Python 3 (ipykernel)",
   "language": "python",
   "name": "python3"
  },
  "language_info": {
   "codemirror_mode": {
    "name": "ipython",
    "version": 3
   },
   "file_extension": ".py",
   "mimetype": "text/x-python",
   "name": "python",
   "nbconvert_exporter": "python",
   "pygments_lexer": "ipython3",
   "version": "3.11.5"
  }
 },
 "nbformat": 4,
 "nbformat_minor": 5
}
