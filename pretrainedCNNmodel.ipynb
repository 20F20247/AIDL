{
 "cells": [
  {
   "cell_type": "code",
   "execution_count": 1,
   "id": "fa090dc0",
   "metadata": {},
   "outputs": [],
   "source": [
    "train_dir = '/Users/Skmal/OneDrive/Documents/archive (7)/train'\n",
    "test_dir = '/Users/Skmal/OneDrive/Documents/archive (7)/test'"
   ]
  },
  {
   "cell_type": "code",
   "execution_count": 2,
   "id": "b8735aa9",
   "metadata": {},
   "outputs": [
    {
     "name": "stdout",
     "output_type": "stream",
     "text": [
      "164\n",
      "130\n",
      "54\n",
      "43\n"
     ]
    }
   ],
   "source": [
    "import os\n",
    "print(len(os.listdir('/Users/Skmal/OneDrive/Documents/archive (7)/train/apples')))\n",
    "print(len(os.listdir('/Users/Skmal/OneDrive/Documents/archive (7)/train/tomatoes')))\n",
    "print(len(os.listdir('/Users/Skmal/OneDrive/Documents/archive (7)/test/apples')))\n",
    "print(len(os.listdir('/Users/Skmal/OneDrive/Documents/archive (7)/test/tomatoes')))"
   ]
  },
  {
   "cell_type": "code",
   "execution_count": 3,
   "id": "52bb0385",
   "metadata": {},
   "outputs": [
    {
     "name": "stdout",
     "output_type": "stream",
     "text": [
      "WARNING:tensorflow:From C:\\Users\\Skmal\\anaconda3\\Lib\\site-packages\\keras\\src\\losses.py:2976: The name tf.losses.sparse_softmax_cross_entropy is deprecated. Please use tf.compat.v1.losses.sparse_softmax_cross_entropy instead.\n",
      "\n",
      "Found 236 images belonging to 2 classes.\n",
      "Found 58 images belonging to 2 classes.\n"
     ]
    }
   ],
   "source": [
    "import tensorflow as tf\n",
    "from tensorflow.keras.preprocessing.image import ImageDataGenerator\n",
    "\n",
    "# Create ImageDataGenerator for training set\n",
    "train_datagen = ImageDataGenerator(\n",
    "    rescale=1./255,\n",
    "    validation_split=0.2  # Split 20% of the images for validation\n",
    ")\n",
    "\n",
    "# Load and prepare training data\n",
    "train_data = train_datagen.flow_from_directory(\n",
    "    train_dir,\n",
    "    target_size=(256,256),\n",
    "    batch_size=32,\n",
    "    class_mode='binary',  # 'binary' for binary classification (cats vs. dogs)\n",
    "    subset='training'  # Specify 'training' for the training set\n",
    ")\n",
    "\n",
    "# Create ImageDataGenerator for validation set\n",
    "validation_datagen = ImageDataGenerator(\n",
    "    rescale=1./255,\n",
    "    validation_split=0.2  # Note: Using the same validation split as in the training set\n",
    ")\n",
    "\n",
    "# Load and prepare validation data\n",
    "validation_data = validation_datagen.flow_from_directory(\n",
    "    train_dir,\n",
    "    target_size=(256,256),\n",
    "    batch_size=32,\n",
    "    class_mode='binary',\n",
    "    subset='validation'  # Specify 'validation' for the validation set\n",
    ")"
   ]
  },
  {
   "cell_type": "code",
   "execution_count": 4,
   "id": "bd204f15",
   "metadata": {},
   "outputs": [
    {
     "name": "stdout",
     "output_type": "stream",
     "text": [
      "WARNING:tensorflow:From C:\\Users\\Skmal\\anaconda3\\Lib\\site-packages\\keras\\src\\backend.py:873: The name tf.get_default_graph is deprecated. Please use tf.compat.v1.get_default_graph instead.\n",
      "\n",
      "WARNING:tensorflow:From C:\\Users\\Skmal\\anaconda3\\Lib\\site-packages\\keras\\src\\layers\\normalization\\batch_normalization.py:979: The name tf.nn.fused_batch_norm is deprecated. Please use tf.compat.v1.nn.fused_batch_norm instead.\n",
      "\n"
     ]
    }
   ],
   "source": [
    "from tensorflow import keras\n",
    "from keras import Sequential\n",
    "from keras.layers import Dense,Conv2D,MaxPooling2D,Flatten\n",
    "\n",
    "resnet_model = Sequential()    #ResNet50 is a pre-trained model\n",
    "pretrained_model = tf.keras.applications.ResNet50(include_top = False, #because i have my own image of a diff dimension\n",
    "                                                input_shape = (256,256,3),\n",
    "                                                pooling = 'max', classes = 2,\n",
    "                                                weights = 'imagenet')\n",
    "for layer in pretrained_model.layers:\n",
    "    layer.trainable = False  #all layers in the Resnet50 is not trainable; keep those weights; I am going to add my own i/p and other layers\n",
    "\n",
    "resnet_model.add(pretrained_model)\n",
    "resnet_model.add(Flatten())\n",
    "resnet_model.add(Dense(512, activation = 'relu'))\n",
    "resnet_model.add(Dense(1, activation = 'sigmoid'))"
   ]
  },
  {
   "cell_type": "code",
   "execution_count": 5,
   "id": "764f6e6e",
   "metadata": {},
   "outputs": [
    {
     "name": "stdout",
     "output_type": "stream",
     "text": [
      "Model: \"sequential\"\n",
      "_________________________________________________________________\n",
      " Layer (type)                Output Shape              Param #   \n",
      "=================================================================\n",
      " resnet50 (Functional)       (None, 2048)              23587712  \n",
      "                                                                 \n",
      " flatten (Flatten)           (None, 2048)              0         \n",
      "                                                                 \n",
      " dense (Dense)               (None, 512)               1049088   \n",
      "                                                                 \n",
      " dense_1 (Dense)             (None, 1)                 513       \n",
      "                                                                 \n",
      "=================================================================\n",
      "Total params: 24637313 (93.98 MB)\n",
      "Trainable params: 1049601 (4.00 MB)\n",
      "Non-trainable params: 23587712 (89.98 MB)\n",
      "_________________________________________________________________\n"
     ]
    }
   ],
   "source": [
    "resnet_model.summary()"
   ]
  },
  {
   "cell_type": "code",
   "execution_count": 6,
   "id": "ea186adc",
   "metadata": {},
   "outputs": [],
   "source": [
    "from keras.optimizers import Adam\n",
    "resnet_model.compile(optimizer=Adam(learning_rate=0.001),loss='binary_crossentropy',metrics=['accuracy']) #binary_crossentropy - binary classification"
   ]
  },
  {
   "cell_type": "code",
   "execution_count": 7,
   "id": "94181e63",
   "metadata": {},
   "outputs": [
    {
     "name": "stdout",
     "output_type": "stream",
     "text": [
      "Epoch 1/3\n",
      "WARNING:tensorflow:From C:\\Users\\Skmal\\anaconda3\\Lib\\site-packages\\keras\\src\\utils\\tf_utils.py:492: The name tf.ragged.RaggedTensorValue is deprecated. Please use tf.compat.v1.ragged.RaggedTensorValue instead.\n",
      "\n",
      "WARNING:tensorflow:From C:\\Users\\Skmal\\anaconda3\\Lib\\site-packages\\keras\\src\\engine\\base_layer_utils.py:384: The name tf.executing_eagerly_outside_functions is deprecated. Please use tf.compat.v1.executing_eagerly_outside_functions instead.\n",
      "\n",
      "8/8 [==============================] - 71s 8s/step - loss: 5.0666 - accuracy: 0.5508 - val_loss: 0.9138 - val_accuracy: 0.4483\n",
      "Epoch 2/3\n",
      "8/8 [==============================] - 53s 7s/step - loss: 2.2161 - accuracy: 0.5466 - val_loss: 2.0626 - val_accuracy: 0.4483\n",
      "Epoch 3/3\n",
      "8/8 [==============================] - 53s 7s/step - loss: 1.2652 - accuracy: 0.5805 - val_loss: 1.0756 - val_accuracy: 0.5000\n"
     ]
    }
   ],
   "source": [
    "history = resnet_model.fit(train_data, epochs=3, validation_data=validation_data)"
   ]
  },
  {
   "cell_type": "code",
   "execution_count": 8,
   "id": "4b625cf1",
   "metadata": {},
   "outputs": [
    {
     "data": {
      "image/png": "[encoded data removed]",
      "text/plain": [
       "<Figure size 640x480 with 1 Axes>"
      ]
     },
     "metadata": {},
     "output_type": "display_data"
    }
   ],
   "source": [
    "import matplotlib.pyplot as plt\n",
    "\n",
    "plt.plot(history.history['accuracy'],color='red',label='train')\n",
    "plt.plot(history.history['val_accuracy'],color='blue',label='validation')\n",
    "plt.legend()\n",
    "plt.show()"
   ]
  },
  {
   "cell_type": "code",
   "execution_count": 9,
   "id": "a15ca831",
   "metadata": {},
   "outputs": [
    {
     "data": {
      "image/png": "[encoded data removed]",
      "text/plain": [
       "<Figure size 640x480 with 1 Axes>"
      ]
     },
     "metadata": {},
     "output_type": "display_data"
    }
   ],
   "source": [
    "plt.plot(history.history['loss'],color='red',label='train')\n",
    "plt.plot(history.history['val_loss'],color='blue',label='validation')\n",
    "plt.legend()\n",
    "plt.show()"
   ]
  },
  {
   "cell_type": "code",
   "execution_count": 10,
   "id": "8a2396f7",
   "metadata": {},
   "outputs": [
    {
     "name": "stdout",
     "output_type": "stream",
     "text": [
      "Found 97 images belonging to 2 classes.\n"
     ]
    }
   ],
   "source": [
    "test_datagen = ImageDataGenerator(rescale=1./255)\n",
    "test_data = test_datagen.flow_from_directory(\n",
    "    test_dir,\n",
    "    target_size=(256,256),\n",
    "    batch_size=32,\n",
    "    class_mode='binary'\n",
    ")"
   ]
  },
  {
   "cell_type": "code",
   "execution_count": 11,
   "id": "919a1e99",
   "metadata": {},
   "outputs": [
    {
     "name": "stdout",
     "output_type": "stream",
     "text": [
      "4/4 [==============================] - 23s 4s/step\n",
      "[[0.91855013]\n",
      " [0.85221785]\n",
      " [0.99572086]\n",
      " [0.86355036]\n",
      " [0.68266344]\n",
      " [0.9338427 ]\n",
      " [0.7090579 ]\n",
      " [0.930928  ]\n",
      " [0.92948365]\n",
      " [0.99716234]\n",
      " [0.7732174 ]\n",
      " [0.6692944 ]\n",
      " [0.9549194 ]\n",
      " [0.8166569 ]\n",
      " [0.9088502 ]\n",
      " [0.9972517 ]\n",
      " [0.7324094 ]\n",
      " [0.25274327]\n",
      " [0.77606815]\n",
      " [0.93291056]\n",
      " [0.5515365 ]\n",
      " [0.8146814 ]\n",
      " [0.8536009 ]\n",
      " [0.9722793 ]\n",
      " [0.8469269 ]\n",
      " [0.8253595 ]\n",
      " [0.79726595]\n",
      " [0.6080306 ]\n",
      " [0.96187145]\n",
      " [0.32628176]\n",
      " [0.9977344 ]\n",
      " [0.99585646]\n",
      " [0.7936639 ]\n",
      " [0.83378696]\n",
      " [0.94252396]\n",
      " [0.82021445]\n",
      " [0.58343816]\n",
      " [0.991926  ]\n",
      " [0.6567078 ]\n",
      " [0.7984158 ]\n",
      " [0.931092  ]\n",
      " [0.86043936]\n",
      " [0.9128129 ]\n",
      " [0.79591286]\n",
      " [0.99003726]\n",
      " [0.8668092 ]\n",
      " [0.99407405]\n",
      " [0.8967167 ]\n",
      " [0.9796848 ]\n",
      " [0.9610329 ]\n",
      " [0.92854303]\n",
      " [0.84998786]\n",
      " [0.96787447]\n",
      " [0.8490335 ]\n",
      " [0.55701274]\n",
      " [0.998969  ]\n",
      " [0.86219025]\n",
      " [0.66981506]\n",
      " [0.9052873 ]\n",
      " [0.9530638 ]\n",
      " [0.9695997 ]\n",
      " [0.9444682 ]\n",
      " [0.7933755 ]\n",
      " [0.63866645]\n",
      " [0.8066947 ]\n",
      " [0.91836935]\n",
      " [0.99589735]\n",
      " [0.7416394 ]\n",
      " [0.9166593 ]\n",
      " [0.9996606 ]\n",
      " [0.5807453 ]\n",
      " [0.7605516 ]\n",
      " [0.84858125]\n",
      " [0.6449642 ]\n",
      " [0.87448335]\n",
      " [0.58268654]\n",
      " [0.6695979 ]\n",
      " [0.94713557]\n",
      " [0.98252493]\n",
      " [0.89522934]\n",
      " [0.7925821 ]\n",
      " [0.8284822 ]\n",
      " [0.98401064]\n",
      " [0.9892224 ]\n",
      " [0.68557715]\n",
      " [0.20176394]\n",
      " [0.9604327 ]\n",
      " [0.84491587]\n",
      " [0.68865156]\n",
      " [0.90472466]\n",
      " [0.64920664]\n",
      " [0.989208  ]\n",
      " [0.93622875]\n",
      " [0.739602  ]\n",
      " [0.86890864]\n",
      " [0.8616873 ]\n",
      " [0.8568461 ]]\n"
     ]
    }
   ],
   "source": [
    "#predict the test data\n",
    "predictions = resnet_model.predict(test_data)\n",
    "print(predictions)"
   ]
  },
  {
   "cell_type": "code",
   "execution_count": 12,
   "id": "65e6f117",
   "metadata": {},
   "outputs": [
    {
     "data": {
      "text/plain": [
       "97"
      ]
     },
     "execution_count": 12,
     "metadata": {},
     "output_type": "execute_result"
    }
   ],
   "source": [
    "len(predictions)"
   ]
  },
  {
   "cell_type": "code",
   "execution_count": 13,
   "id": "076d1326",
   "metadata": {},
   "outputs": [
    {
     "name": "stdout",
     "output_type": "stream",
     "text": [
      "Confusion Matrix:\n",
      "[[ 2 52]\n",
      " [ 1 42]]\n",
      "Classification Report:\n",
      "              precision    recall  f1-score   support\n",
      "\n",
      "           0       0.67      0.04      0.07        54\n",
      "           1       0.45      0.98      0.61        43\n",
      "\n",
      "    accuracy                           0.45        97\n",
      "   macro avg       0.56      0.51      0.34        97\n",
      "weighted avg       0.57      0.45      0.31        97\n",
      "\n"
     ]
    }
   ],
   "source": [
    "from sklearn.metrics import confusion_matrix, classification_report\n",
    "\n",
    "# Assuming you have ground truth labels (true_labels) and predicted labels (predictions)\n",
    "true_labels = test_data.classes\n",
    "predicted_labels = (predictions > 0.5).astype(int)  # Adjust the threshold as needed\n",
    "\n",
    "# Calculate confusion matrix\n",
    "cm = confusion_matrix(true_labels, predicted_labels)\n",
    "\n",
    "# Print confusion matrix\n",
    "print(\"Confusion Matrix:\")\n",
    "print(cm)\n",
    "\n",
    "# Print classification report\n",
    "print(\"Classification Report:\")\n",
    "print(classification_report(true_labels, predicted_labels))"
   ]
  },
  {
   "cell_type": "code",
   "execution_count": null,
   "id": "5861fd4a",
   "metadata": {},
   "outputs": [],
   "source": []
  }
 ],
 "metadata": {
  "kernelspec": {
   "display_name": "Python 3 (ipykernel)",
   "language": "python",
   "name": "python3"
  },
  "language_info": {
   "codemirror_mode": {
    "name": "ipython",
    "version": 3
   },
   "file_extension": ".py",
   "mimetype": "text/x-python",
   "name": "python",
   "nbconvert_exporter": "python",
   "pygments_lexer": "ipython3",
   "version": "3.11.5"
  }
 },
 "nbformat": 4,
 "nbformat_minor": 5
}
